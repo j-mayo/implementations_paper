{
 "cells": [
  {
   "cell_type": "code",
   "execution_count": 5,
   "metadata": {},
   "outputs": [],
   "source": [
    "\n",
    "import torch\n",
    "import torch.nn as nn\n",
    "import torch.nn.functional as F\n",
    "\n",
    "from torchvision import datasets\n",
    "import torchvision.transforms as transforms\n",
    "from torch.utils.data import DataLoader\n",
    "from torchvision.transforms.functional import to_pil_image\n",
    "import matplotlib.pylab as plt\n",
    "%matplotlib inline\n",
    "\n",
    "import os\n",
    "import numpy as np\n",
    "import time\n",
    "\n",
    "device = torch.device('cuda' if torch.cuda.is_available() else 'cpu')\n"
   ]
  },
  {
   "cell_type": "code",
   "execution_count": 6,
   "metadata": {},
   "outputs": [],
   "source": [
    "data_path = './GANdata'\n",
    "os.makedirs(data_path, exist_ok=True)\n",
    "transform = transforms.Compose([\n",
    "    transforms.ToTensor(),\n",
    "    transforms.Normalize([0.5], [0.5])\n",
    "])\n",
    "train_ds = datasets.MNIST(data_path, train=True, transform=transform, download=True)"
   ]
  },
  {
   "cell_type": "code",
   "execution_count": 7,
   "metadata": {},
   "outputs": [],
   "source": [
    "train_dataloader = DataLoader(train_ds, batch_size=32, shuffle=True)"
   ]
  },
  {
   "cell_type": "code",
   "execution_count": 8,
   "metadata": {},
   "outputs": [
    {
     "name": "stdout",
     "output_type": "stream",
     "text": [
      "torch.Size([32, 1, 28, 28]) torch.Size([32])\n"
     ]
    }
   ],
   "source": [
    "for x, y in train_dataloader:\n",
    "    print(x.shape, y.shape)\n",
    "    break\n",
    "\n",
    "#for check"
   ]
  },
  {
   "cell_type": "code",
   "execution_count": 9,
   "metadata": {},
   "outputs": [],
   "source": [
    "# Generator\n",
    "\n",
    "class Generator(nn.Module):\n",
    "    def __init__(self, nz, img_size):\n",
    "        super(Generator, self).__init__()\n",
    "        self.nz = nz # 100, get noise vector of size 100 -> image. This is a simple model\n",
    "        self.img_size = img_size # 1 x 28 x 28\n",
    "        \n",
    "        self.model = nn.Sequential(\n",
    "            nn.Linear(self.nz, 128),\n",
    "            nn.LeakyReLU(0.2),\n",
    "            nn.Linear(128, 256),\n",
    "            nn.BatchNorm1d(256, 0.8),\n",
    "            nn.LeakyReLU(0.2),\n",
    "            nn.Linear(256, 512),\n",
    "            nn.BatchNorm1d(512, 0.8),\n",
    "            nn.LeakyReLU(0.2),\n",
    "            nn.Linear(512, 1024),\n",
    "            nn.BatchNorm1d(1024, 0.8),\n",
    "            nn.LeakyReLU(0.2),\n",
    "            nn.Linear(1024, int(np.prod(self.img_size))),\n",
    "            nn.Tanh()\n",
    "        )\n",
    "    \n",
    "    def forward(self, z):\n",
    "        output = self.model(z)\n",
    "        image = output.reshape(output.shape[0], *self.img_size) # unpacking + batch\n",
    "        return image"
   ]
  },
  {
   "cell_type": "code",
   "execution_count": 10,
   "metadata": {},
   "outputs": [],
   "source": [
    "class Discriminator(nn.Module):\n",
    "    def __init__(self, img_size):\n",
    "        super(Discriminator, self).__init__()\n",
    "        self.img_size = img_size\n",
    "    \n",
    "        self.model = nn.Sequential(\n",
    "            nn.Linear(int(np.prod(img_size)), 512),\n",
    "            nn.LeakyReLU(0.2),\n",
    "            nn.Linear(512, 256),\n",
    "            nn.LeakyReLU(0.2),\n",
    "            nn.Linear(256, 1),\n",
    "            nn.Sigmoid()\n",
    "        )\n",
    "    \n",
    "    def forward(self, img):\n",
    "        x = img.reshape(img.shape[0], -1)\n",
    "        output = self.model(x)\n",
    "        return output"
   ]
  },
  {
   "cell_type": "code",
   "execution_count": 11,
   "metadata": {},
   "outputs": [
    {
     "name": "stdout",
     "output_type": "stream",
     "text": [
      "torch.Size([16, 1, 28, 28])\n",
      "torch.Size([16, 1])\n"
     ]
    }
   ],
   "source": [
    "# check\n",
    "z = torch.randn(16,100).to(device) # random noise\n",
    "model_gen = Generator(100, (1, 28, 28)).to(device)\n",
    "output = model_gen(z)\n",
    "print(output.shape)\n",
    "\n",
    "x = torch.randn(16,1,28,28).to(device)\n",
    "model_dis = Discriminator((1, 28, 28)).to(device)\n",
    "output = model_dis(x)\n",
    "print(output.shape)"
   ]
  },
  {
   "cell_type": "code",
   "execution_count": 12,
   "metadata": {},
   "outputs": [
    {
     "name": "stdout",
     "output_type": "stream",
     "text": [
      "Linear\n",
      "LeakyReLU\n",
      "Linear\n",
      "BatchNorm1d\n",
      "LeakyReLU\n",
      "Linear\n",
      "BatchNorm1d\n",
      "LeakyReLU\n",
      "Linear\n",
      "BatchNorm1d\n",
      "LeakyReLU\n",
      "Linear\n",
      "Tanh\n",
      "Sequential\n",
      "Generator\n",
      "Linear\n",
      "LeakyReLU\n",
      "Linear\n",
      "LeakyReLU\n",
      "Linear\n",
      "Sigmoid\n",
      "Sequential\n",
      "Discriminator\n"
     ]
    },
    {
     "data": {
      "text/plain": [
       "'\\nApplies fn recursively to every submodule (as returned by .children()) as well as self. \\nTypical use includes initializing the parameters of a model (see also torch.nn.init).\\n'"
      ]
     },
     "execution_count": 12,
     "metadata": {},
     "output_type": "execute_result"
    }
   ],
   "source": [
    "def initialize_model(model):\n",
    "    classname = model.__class__.__name__ # module name?\n",
    "    print(classname)\n",
    "    # fc layer\n",
    "    if classname.find('Linear') != -1:\n",
    "        nn.init.normal_(model.weight.data, 0.0, 0.02)\n",
    "        nn.init.constant_(model.bias.data, 0)\n",
    "    # batchnorm\n",
    "    elif classname.find('BatchNorm') != -1:\n",
    "        nn.init.normal_(model.weight.data, 1.0, 0.02)\n",
    "        nn.init.constant_(model.bias.data, 0)\n",
    "\n",
    "\n",
    "model_gen.apply(initialize_model)\n",
    "model_dis.apply(initialize_model)\n",
    "'''\n",
    "Applies fn recursively to every submodule (as returned by .children()) as well as self. \n",
    "Typical use includes initializing the parameters of a model (see also torch.nn.init).\n",
    "'''"
   ]
  },
  {
   "cell_type": "code",
   "execution_count": 14,
   "metadata": {},
   "outputs": [],
   "source": [
    "loss_fcn = nn.BCELoss()\n",
    "# - (y_n * log(x_n) + (1 - y_n) * log(1 - x_n))\n",
    "# y_n에 real / fake label, x_n에 discriminator의 output을 넣어서 의도한 loss를 구하기"
   ]
  },
  {
   "cell_type": "code",
   "execution_count": 15,
   "metadata": {},
   "outputs": [],
   "source": [
    "from torch import optim # for optimization\n",
    "\n",
    "lr = 2e-4\n",
    "beta1 = 0.5\n",
    "beta2 = 0.999\n",
    "\n",
    "opt_D = optim.Adam(model_dis.parameters(), lr=lr, betas=(beta1, beta2))\n",
    "opt_G = optim.Adam(model_gen.parameters(), lr=lr, betas=(beta1, beta2))"
   ]
  },
  {
   "cell_type": "code",
   "execution_count": 16,
   "metadata": {},
   "outputs": [],
   "source": [
    "real = 1\n",
    "fake = 0\n",
    "nz = 100\n",
    "num_epoch = 100\n",
    "loss_log = {'gen': [], 'dis': []}"
   ]
  },
  {
   "cell_type": "code",
   "execution_count": 18,
   "metadata": {},
   "outputs": [
    {
     "name": "stdout",
     "output_type": "stream",
     "text": [
      "Epoch: 0, G_Loss: 2.248571, D_Loss: 0.343581, time: 0.13 min\n",
      "Epoch: 1, G_Loss: 1.373024, D_Loss: 0.184527, time: 0.27 min\n",
      "Epoch: 1, G_Loss: 1.489920, D_Loss: 0.439714, time: 0.41 min\n",
      "Epoch: 2, G_Loss: 2.860862, D_Loss: 0.482628, time: 0.55 min\n",
      "Epoch: 2, G_Loss: 2.048623, D_Loss: 0.299608, time: 0.68 min\n",
      "Epoch: 3, G_Loss: 3.279032, D_Loss: 0.380393, time: 0.82 min\n",
      "Epoch: 3, G_Loss: 2.515978, D_Loss: 0.238160, time: 0.96 min\n",
      "Epoch: 4, G_Loss: 2.053371, D_Loss: 0.187470, time: 1.10 min\n",
      "Epoch: 4, G_Loss: 0.770059, D_Loss: 0.379480, time: 1.24 min\n",
      "Epoch: 5, G_Loss: 3.380693, D_Loss: 0.547626, time: 1.38 min\n",
      "Epoch: 5, G_Loss: 2.982160, D_Loss: 0.173397, time: 1.52 min\n",
      "Epoch: 6, G_Loss: 2.263862, D_Loss: 0.158739, time: 1.66 min\n",
      "Epoch: 6, G_Loss: 1.545429, D_Loss: 0.268927, time: 1.79 min\n",
      "Epoch: 7, G_Loss: 3.167553, D_Loss: 0.144705, time: 1.93 min\n",
      "Epoch: 7, G_Loss: 5.774007, D_Loss: 0.742368, time: 2.07 min\n",
      "Epoch: 8, G_Loss: 2.708421, D_Loss: 0.273394, time: 2.21 min\n",
      "Epoch: 9, G_Loss: 1.409322, D_Loss: 0.195033, time: 2.35 min\n",
      "Epoch: 9, G_Loss: 2.269504, D_Loss: 0.137708, time: 2.48 min\n",
      "Epoch: 10, G_Loss: 3.342292, D_Loss: 0.097553, time: 2.62 min\n",
      "Epoch: 10, G_Loss: 1.457187, D_Loss: 0.165466, time: 2.76 min\n",
      "Epoch: 11, G_Loss: 2.925528, D_Loss: 0.148387, time: 2.90 min\n",
      "Epoch: 11, G_Loss: 1.857540, D_Loss: 0.181615, time: 3.04 min\n",
      "Epoch: 12, G_Loss: 2.829149, D_Loss: 0.159143, time: 3.18 min\n",
      "Epoch: 12, G_Loss: 1.298719, D_Loss: 0.322791, time: 3.32 min\n",
      "Epoch: 13, G_Loss: 1.869215, D_Loss: 0.301425, time: 3.46 min\n",
      "Epoch: 13, G_Loss: 1.828438, D_Loss: 0.166112, time: 3.59 min\n",
      "Epoch: 14, G_Loss: 2.383764, D_Loss: 0.251409, time: 3.73 min\n",
      "Epoch: 14, G_Loss: 3.703023, D_Loss: 0.251299, time: 3.87 min\n",
      "Epoch: 15, G_Loss: 2.871870, D_Loss: 0.117701, time: 4.01 min\n",
      "Epoch: 15, G_Loss: 3.419187, D_Loss: 0.115779, time: 4.15 min\n",
      "Epoch: 16, G_Loss: 0.917067, D_Loss: 0.404452, time: 4.29 min\n",
      "Epoch: 17, G_Loss: 2.382244, D_Loss: 0.156451, time: 4.43 min\n",
      "Epoch: 17, G_Loss: 3.860205, D_Loss: 0.394466, time: 4.57 min\n",
      "Epoch: 18, G_Loss: 2.338864, D_Loss: 0.090870, time: 4.71 min\n",
      "Epoch: 18, G_Loss: 4.159131, D_Loss: 0.185828, time: 4.84 min\n",
      "Epoch: 19, G_Loss: 3.893356, D_Loss: 0.161192, time: 4.98 min\n",
      "Epoch: 19, G_Loss: 4.090775, D_Loss: 0.108560, time: 5.12 min\n",
      "Epoch: 20, G_Loss: 1.510046, D_Loss: 0.162995, time: 5.26 min\n",
      "Epoch: 20, G_Loss: 1.734296, D_Loss: 0.139371, time: 5.40 min\n",
      "Epoch: 21, G_Loss: 2.606822, D_Loss: 0.073908, time: 5.54 min\n",
      "Epoch: 21, G_Loss: 2.030457, D_Loss: 0.189924, time: 5.68 min\n",
      "Epoch: 22, G_Loss: 3.434124, D_Loss: 0.089316, time: 5.82 min\n",
      "Epoch: 22, G_Loss: 1.333333, D_Loss: 0.411431, time: 5.95 min\n",
      "Epoch: 23, G_Loss: 2.669775, D_Loss: 0.223223, time: 6.09 min\n",
      "Epoch: 23, G_Loss: 4.533232, D_Loss: 0.201555, time: 6.23 min\n",
      "Epoch: 24, G_Loss: 3.745903, D_Loss: 0.253310, time: 6.37 min\n",
      "Epoch: 25, G_Loss: 2.639678, D_Loss: 0.081808, time: 6.50 min\n",
      "Epoch: 25, G_Loss: 4.149884, D_Loss: 0.146562, time: 6.64 min\n",
      "Epoch: 26, G_Loss: 3.460778, D_Loss: 0.142302, time: 6.77 min\n",
      "Epoch: 26, G_Loss: 3.481818, D_Loss: 0.151319, time: 6.91 min\n",
      "Epoch: 27, G_Loss: 1.585244, D_Loss: 0.358839, time: 7.04 min\n",
      "Epoch: 27, G_Loss: 4.074637, D_Loss: 0.274060, time: 7.18 min\n",
      "Epoch: 28, G_Loss: 3.077833, D_Loss: 0.168967, time: 7.32 min\n",
      "Epoch: 28, G_Loss: 2.407449, D_Loss: 0.135662, time: 7.46 min\n",
      "Epoch: 29, G_Loss: 3.797337, D_Loss: 0.094165, time: 7.59 min\n",
      "Epoch: 29, G_Loss: 1.998558, D_Loss: 0.317791, time: 7.73 min\n",
      "Epoch: 30, G_Loss: 4.366139, D_Loss: 0.265038, time: 7.86 min\n",
      "Epoch: 30, G_Loss: 2.705001, D_Loss: 0.243314, time: 8.00 min\n",
      "Epoch: 31, G_Loss: 4.640164, D_Loss: 0.301440, time: 8.13 min\n",
      "Epoch: 31, G_Loss: 3.250362, D_Loss: 0.108264, time: 8.27 min\n",
      "Epoch: 32, G_Loss: 1.654365, D_Loss: 0.270553, time: 8.40 min\n",
      "Epoch: 33, G_Loss: 6.431348, D_Loss: 0.490120, time: 8.54 min\n",
      "Epoch: 33, G_Loss: 1.859636, D_Loss: 0.235218, time: 8.68 min\n",
      "Epoch: 34, G_Loss: 3.124796, D_Loss: 0.098887, time: 8.81 min\n",
      "Epoch: 34, G_Loss: 2.239579, D_Loss: 0.153009, time: 8.95 min\n",
      "Epoch: 35, G_Loss: 3.088968, D_Loss: 0.294162, time: 9.08 min\n",
      "Epoch: 35, G_Loss: 4.782725, D_Loss: 0.085192, time: 9.22 min\n",
      "Epoch: 36, G_Loss: 3.654551, D_Loss: 0.108315, time: 9.35 min\n",
      "Epoch: 36, G_Loss: 1.479487, D_Loss: 0.269056, time: 9.49 min\n",
      "Epoch: 37, G_Loss: 2.782502, D_Loss: 0.193491, time: 9.62 min\n",
      "Epoch: 37, G_Loss: 3.205191, D_Loss: 0.055812, time: 9.76 min\n",
      "Epoch: 38, G_Loss: 3.004481, D_Loss: 0.203002, time: 9.90 min\n",
      "Epoch: 38, G_Loss: 2.042407, D_Loss: 0.150580, time: 10.03 min\n",
      "Epoch: 39, G_Loss: 2.066894, D_Loss: 0.233076, time: 10.17 min\n",
      "Epoch: 39, G_Loss: 2.856535, D_Loss: 0.152573, time: 10.30 min\n",
      "Epoch: 40, G_Loss: 2.662789, D_Loss: 0.226075, time: 10.44 min\n",
      "Epoch: 41, G_Loss: 3.014780, D_Loss: 0.200307, time: 10.57 min\n",
      "Epoch: 41, G_Loss: 2.087982, D_Loss: 0.245350, time: 10.71 min\n",
      "Epoch: 42, G_Loss: 1.994336, D_Loss: 0.192428, time: 10.84 min\n",
      "Epoch: 42, G_Loss: 2.748523, D_Loss: 0.112959, time: 10.98 min\n",
      "Epoch: 43, G_Loss: 2.546944, D_Loss: 0.120583, time: 11.12 min\n",
      "Epoch: 43, G_Loss: 3.638339, D_Loss: 0.111324, time: 11.26 min\n",
      "Epoch: 44, G_Loss: 2.827392, D_Loss: 0.051477, time: 11.39 min\n",
      "Epoch: 44, G_Loss: 2.952543, D_Loss: 0.321841, time: 11.53 min\n",
      "Epoch: 45, G_Loss: 3.332393, D_Loss: 0.315787, time: 11.68 min\n",
      "Epoch: 45, G_Loss: 2.017733, D_Loss: 0.168271, time: 11.82 min\n",
      "Epoch: 46, G_Loss: 3.621490, D_Loss: 0.108134, time: 11.95 min\n",
      "Epoch: 46, G_Loss: 3.128462, D_Loss: 0.132803, time: 12.09 min\n",
      "Epoch: 47, G_Loss: 3.037019, D_Loss: 0.194320, time: 12.22 min\n",
      "Epoch: 47, G_Loss: 3.082187, D_Loss: 0.290906, time: 12.35 min\n",
      "Epoch: 48, G_Loss: 2.269946, D_Loss: 0.130783, time: 12.49 min\n",
      "Epoch: 49, G_Loss: 3.168049, D_Loss: 0.167313, time: 12.62 min\n",
      "Epoch: 49, G_Loss: 1.945098, D_Loss: 0.318842, time: 12.75 min\n",
      "Epoch: 50, G_Loss: 3.422561, D_Loss: 0.110909, time: 12.89 min\n",
      "Epoch: 50, G_Loss: 4.134887, D_Loss: 0.134447, time: 13.02 min\n",
      "Epoch: 51, G_Loss: 2.977668, D_Loss: 0.221551, time: 13.16 min\n",
      "Epoch: 51, G_Loss: 4.702189, D_Loss: 0.120548, time: 13.29 min\n",
      "Epoch: 52, G_Loss: 4.180346, D_Loss: 0.128090, time: 13.43 min\n",
      "Epoch: 52, G_Loss: 3.777678, D_Loss: 0.101712, time: 13.56 min\n",
      "Epoch: 53, G_Loss: 2.952598, D_Loss: 0.111374, time: 13.70 min\n",
      "Epoch: 53, G_Loss: 2.868429, D_Loss: 0.246794, time: 13.83 min\n",
      "Epoch: 54, G_Loss: 3.027099, D_Loss: 0.224755, time: 13.97 min\n",
      "Epoch: 54, G_Loss: 3.266628, D_Loss: 0.123914, time: 14.10 min\n",
      "Epoch: 55, G_Loss: 4.224511, D_Loss: 0.131029, time: 14.24 min\n",
      "Epoch: 55, G_Loss: 4.728468, D_Loss: 0.363470, time: 14.38 min\n",
      "Epoch: 56, G_Loss: 2.077581, D_Loss: 0.256723, time: 14.52 min\n",
      "Epoch: 57, G_Loss: 3.657490, D_Loss: 0.294846, time: 14.66 min\n",
      "Epoch: 57, G_Loss: 3.823598, D_Loss: 0.168529, time: 14.80 min\n",
      "Epoch: 58, G_Loss: 2.861141, D_Loss: 0.151058, time: 14.94 min\n",
      "Epoch: 58, G_Loss: 2.761585, D_Loss: 0.203499, time: 15.08 min\n",
      "Epoch: 59, G_Loss: 3.386908, D_Loss: 0.212582, time: 15.21 min\n",
      "Epoch: 59, G_Loss: 2.909719, D_Loss: 0.220354, time: 15.35 min\n",
      "Epoch: 60, G_Loss: 1.733117, D_Loss: 0.211709, time: 15.49 min\n",
      "Epoch: 60, G_Loss: 2.495300, D_Loss: 0.304699, time: 15.63 min\n",
      "Epoch: 61, G_Loss: 1.573578, D_Loss: 0.293479, time: 15.77 min\n",
      "Epoch: 61, G_Loss: 3.160697, D_Loss: 0.182083, time: 15.90 min\n",
      "Epoch: 62, G_Loss: 3.579413, D_Loss: 0.164689, time: 16.04 min\n",
      "Epoch: 62, G_Loss: 3.322556, D_Loss: 0.142964, time: 16.18 min\n",
      "Epoch: 63, G_Loss: 1.894143, D_Loss: 0.201510, time: 16.32 min\n",
      "Epoch: 63, G_Loss: 3.096412, D_Loss: 0.191951, time: 16.46 min\n",
      "Epoch: 64, G_Loss: 2.497370, D_Loss: 0.105876, time: 16.59 min\n",
      "Epoch: 65, G_Loss: 2.524169, D_Loss: 0.203590, time: 16.73 min\n",
      "Epoch: 65, G_Loss: 3.133966, D_Loss: 0.284881, time: 16.87 min\n",
      "Epoch: 66, G_Loss: 3.212939, D_Loss: 0.251258, time: 17.01 min\n",
      "Epoch: 66, G_Loss: 3.513342, D_Loss: 0.101350, time: 17.14 min\n",
      "Epoch: 67, G_Loss: 3.882078, D_Loss: 0.153369, time: 17.28 min\n",
      "Epoch: 67, G_Loss: 2.736989, D_Loss: 0.198526, time: 17.41 min\n",
      "Epoch: 68, G_Loss: 3.285049, D_Loss: 0.154736, time: 17.55 min\n",
      "Epoch: 68, G_Loss: 2.813395, D_Loss: 0.528818, time: 17.69 min\n",
      "Epoch: 69, G_Loss: 3.144663, D_Loss: 0.143419, time: 17.82 min\n",
      "Epoch: 69, G_Loss: 4.815951, D_Loss: 0.131255, time: 17.96 min\n",
      "Epoch: 70, G_Loss: 2.745481, D_Loss: 0.193637, time: 18.10 min\n",
      "Epoch: 70, G_Loss: 2.352427, D_Loss: 0.076984, time: 18.24 min\n",
      "Epoch: 71, G_Loss: 4.562813, D_Loss: 0.230373, time: 18.38 min\n",
      "Epoch: 71, G_Loss: 2.136209, D_Loss: 0.173256, time: 18.52 min\n",
      "Epoch: 72, G_Loss: 3.867301, D_Loss: 0.070886, time: 18.65 min\n",
      "Epoch: 73, G_Loss: 3.372038, D_Loss: 0.068217, time: 18.79 min\n",
      "Epoch: 73, G_Loss: 3.033995, D_Loss: 0.174886, time: 18.93 min\n",
      "Epoch: 74, G_Loss: 3.764304, D_Loss: 0.188257, time: 19.07 min\n",
      "Epoch: 74, G_Loss: 3.417792, D_Loss: 0.104140, time: 19.21 min\n",
      "Epoch: 75, G_Loss: 2.155372, D_Loss: 0.255378, time: 19.35 min\n",
      "Epoch: 75, G_Loss: 2.688240, D_Loss: 0.216109, time: 19.49 min\n",
      "Epoch: 76, G_Loss: 2.111378, D_Loss: 0.186448, time: 19.63 min\n",
      "Epoch: 76, G_Loss: 2.972702, D_Loss: 0.233315, time: 19.77 min\n",
      "Epoch: 77, G_Loss: 3.269523, D_Loss: 0.084163, time: 19.90 min\n",
      "Epoch: 77, G_Loss: 2.869291, D_Loss: 0.084068, time: 20.04 min\n",
      "Epoch: 78, G_Loss: 3.117851, D_Loss: 0.240050, time: 20.18 min\n",
      "Epoch: 78, G_Loss: 1.974191, D_Loss: 0.235494, time: 20.32 min\n",
      "Epoch: 79, G_Loss: 3.117220, D_Loss: 0.081954, time: 20.46 min\n",
      "Epoch: 79, G_Loss: 3.383378, D_Loss: 0.162167, time: 20.60 min\n",
      "Epoch: 80, G_Loss: 1.992253, D_Loss: 0.174254, time: 20.74 min\n",
      "Epoch: 81, G_Loss: 2.061794, D_Loss: 0.157622, time: 20.88 min\n",
      "Epoch: 81, G_Loss: 2.710701, D_Loss: 0.211092, time: 21.02 min\n",
      "Epoch: 82, G_Loss: 3.478673, D_Loss: 0.131261, time: 21.15 min\n",
      "Epoch: 82, G_Loss: 2.668801, D_Loss: 0.156656, time: 21.29 min\n",
      "Epoch: 83, G_Loss: 3.561944, D_Loss: 0.258455, time: 21.43 min\n",
      "Epoch: 83, G_Loss: 4.413015, D_Loss: 0.213720, time: 21.57 min\n",
      "Epoch: 84, G_Loss: 3.004852, D_Loss: 0.127433, time: 21.71 min\n",
      "Epoch: 84, G_Loss: 2.261618, D_Loss: 0.219893, time: 21.85 min\n",
      "Epoch: 85, G_Loss: 1.294275, D_Loss: 0.401170, time: 21.98 min\n",
      "Epoch: 85, G_Loss: 2.716555, D_Loss: 0.326425, time: 22.12 min\n",
      "Epoch: 86, G_Loss: 1.645532, D_Loss: 0.293600, time: 22.26 min\n",
      "Epoch: 86, G_Loss: 2.282951, D_Loss: 0.388156, time: 22.40 min\n",
      "Epoch: 87, G_Loss: 2.713255, D_Loss: 0.376841, time: 22.54 min\n",
      "Epoch: 87, G_Loss: 3.375931, D_Loss: 0.199902, time: 22.67 min\n",
      "Epoch: 88, G_Loss: 3.284573, D_Loss: 0.205568, time: 22.81 min\n",
      "Epoch: 89, G_Loss: 3.883578, D_Loss: 0.238251, time: 22.95 min\n",
      "Epoch: 89, G_Loss: 3.595485, D_Loss: 0.463017, time: 23.08 min\n",
      "Epoch: 90, G_Loss: 2.707883, D_Loss: 0.158410, time: 23.22 min\n",
      "Epoch: 90, G_Loss: 2.383655, D_Loss: 0.210633, time: 23.36 min\n",
      "Epoch: 91, G_Loss: 2.651691, D_Loss: 0.241821, time: 23.50 min\n",
      "Epoch: 91, G_Loss: 3.247872, D_Loss: 0.148445, time: 23.63 min\n",
      "Epoch: 92, G_Loss: 2.525055, D_Loss: 0.074759, time: 23.77 min\n",
      "Epoch: 92, G_Loss: 3.820446, D_Loss: 0.198867, time: 23.92 min\n",
      "Epoch: 93, G_Loss: 2.515935, D_Loss: 0.176966, time: 24.05 min\n",
      "Epoch: 93, G_Loss: 2.626781, D_Loss: 0.081014, time: 24.18 min\n",
      "Epoch: 94, G_Loss: 4.043065, D_Loss: 0.162258, time: 24.31 min\n",
      "Epoch: 94, G_Loss: 2.840324, D_Loss: 0.208471, time: 24.44 min\n",
      "Epoch: 95, G_Loss: 3.685047, D_Loss: 0.088271, time: 24.57 min\n",
      "Epoch: 95, G_Loss: 3.443731, D_Loss: 0.241322, time: 24.70 min\n",
      "Epoch: 96, G_Loss: 2.709917, D_Loss: 0.129128, time: 24.83 min\n",
      "Epoch: 97, G_Loss: 2.512118, D_Loss: 0.209838, time: 24.96 min\n",
      "Epoch: 97, G_Loss: 2.883578, D_Loss: 0.236320, time: 25.09 min\n",
      "Epoch: 98, G_Loss: 5.484905, D_Loss: 0.166291, time: 25.21 min\n",
      "Epoch: 98, G_Loss: 2.282400, D_Loss: 0.134697, time: 25.34 min\n",
      "Epoch: 99, G_Loss: 5.802439, D_Loss: 0.259154, time: 25.47 min\n",
      "Epoch: 99, G_Loss: 3.117479, D_Loss: 0.168346, time: 25.60 min\n"
     ]
    }
   ],
   "source": [
    "batch_count = 0\n",
    "start_time = time.time()\n",
    "model_dis.train()\n",
    "model_gen.train()\n",
    "\n",
    "for epoch in range(num_epoch):\n",
    "    for x_batch, y_batch in train_dataloader:\n",
    "        batch_size = len(x_batch)\n",
    "        x_batch = x_batch.to(device)\n",
    "        y_batch_r = torch.ones((batch_size, 1)).to(device)\n",
    "        y_batch_f = torch.zeros((batch_size, 1)).to(device)\n",
    "        \n",
    "        # Generator step\n",
    "        model_gen.zero_grad()\n",
    "        noise = torch.randn(batch_size, nz, device=device)\n",
    "        output_gen = model_gen(noise)\n",
    "        output_dis = model_dis(output_gen)\n",
    "        loss_gen = loss_fcn(output_dis, y_batch_r) # maximize log(D(G(z))), 본래는 log(1 - D(G(z)))를 minimize긴 한데 충분한 변화가 아님\n",
    "        loss_gen.backward()\n",
    "        opt_G.step()\n",
    "        \n",
    "        # Discriminator step\n",
    "        model_dis.zero_grad()\n",
    "        output_dis_real = model_dis(x_batch)\n",
    "        output_dis_fake = model_dis(output_gen.clone().detach())\n",
    "        loss_real = loss_fcn(output_dis_real, y_batch_r) # maximize log(D(x))\n",
    "        loss_fake = loss_fcn(output_dis_fake, y_batch_f) # maximize 1 - log(D(G(z)))\n",
    "        loss_dis = (loss_real + loss_fake) / 2\n",
    "        loss_dis.backward()\n",
    "        opt_D.step()\n",
    "        \n",
    "        loss_log['gen'].append(loss_gen.item())\n",
    "        loss_log['dis'].append(loss_dis.item())\n",
    "        \n",
    "        batch_count += 1\n",
    "        if batch_count % 1000 == 0:\n",
    "            print('Epoch: %.0f, G_Loss: %.6f, D_Loss: %.6f, time: %.2f min' %(epoch, loss_gen.item(), loss_dis.item(), (time.time()-start_time)/60))\n",
    "        \n",
    "        "
   ]
  },
  {
   "cell_type": "code",
   "execution_count": 19,
   "metadata": {},
   "outputs": [
    {
     "data": {
      "image/png": "[encoded data removed]",
      "text/plain": [
       "<Figure size 1000x500 with 1 Axes>"
      ]
     },
     "metadata": {},
     "output_type": "display_data"
    }
   ],
   "source": [
    "plt.figure(figsize=(10,5))\n",
    "plt.title('Loss Progress')\n",
    "plt.plot(loss_log['gen'], label='Gen. Loss')\n",
    "plt.plot(loss_log['dis'], label='Dis. Loss')\n",
    "plt.xlabel('batch count')\n",
    "plt.ylabel('Loss')\n",
    "plt.legend()\n",
    "plt.show()"
   ]
  },
  {
   "cell_type": "code",
   "execution_count": 20,
   "metadata": {},
   "outputs": [],
   "source": [
    "save_path = './models'\n",
    "os.makedirs(save_path, exist_ok=True)\n",
    "torch.save(model_dis.state_dict(), save_path+'/discriminator.pt')\n",
    "torch.save(model_gen.state_dict(), save_path+\"/generator.pt\")"
   ]
  },
  {
   "cell_type": "code",
   "execution_count": 21,
   "metadata": {},
   "outputs": [
    {
     "data": {
      "image/png": "[encoded data removed]",
      "text/plain": [
       "<Figure size 1000x1000 with 16 Axes>"
      ]
     },
     "metadata": {},
     "output_type": "display_data"
    }
   ],
   "source": [
    "model_gen.eval()\n",
    "\n",
    "with torch.no_grad():\n",
    "    new_noise = torch.randn(16, 100, device=device)\n",
    "    result = model_gen(new_noise).clone().detach().cpu()\n",
    "\n",
    "plt.figure(figsize=(10,10))\n",
    "for ii in range(16):\n",
    "    plt.subplot(4,4,ii+1)\n",
    "    plt.imshow(to_pil_image(0.5*result[ii]+0.5),cmap='gray')\n",
    "    plt.axis('off')"
   ]
  },
  {
   "cell_type": "code",
   "execution_count": 13,
   "metadata": {},
   "outputs": [
    {
     "name": "stdout",
     "output_type": "stream",
     "text": [
      "cuda\n"
     ]
    }
   ],
   "source": [
    "print(device)"
   ]
  }
 ],
 "metadata": {
  "kernelspec": {
   "display_name": "pytorch",
   "language": "python",
   "name": "python3"
  },
  "language_info": {
   "codemirror_mode": {
    "name": "ipython",
    "version": 3
   },
   "file_extension": ".py",
   "mimetype": "text/x-python",
   "name": "python",
   "nbconvert_exporter": "python",
   "pygments_lexer": "ipython3",
   "version": "3.8.18"
  }
 },
 "nbformat": 4,
 "nbformat_minor": 2
}
